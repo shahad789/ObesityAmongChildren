{
 "cells": [
  {
   "cell_type": "markdown",
   "id": "969eda0c",
   "metadata": {},
   "source": [
    "<h1>Description</h1>\n",
    "<h2>Goal</h2>\n",
    "<p>Our motivation for undertaking this project stems from the recognition that childhood obesity is a complex problem shaped by various factors, such as age and gender. To effectively tackle these public health concerns, it is essential to implement customized interventions and policies that consider these diverse factors, with the aim of promoting healthy behaviors and reducing the prevalence of childhood obesity. </p>\n",
    "<hr>\n",
    "<h2>Dataset Link</h2>\n",
    "<a href=\"https://www.kaggle.com/datasets/utkarshx27/obesity-among-children-by-selected-characteristics\">Obesity children<a>"
   ]
  },
  {
   "cell_type": "markdown",
   "id": "6fc99d94",
   "metadata": {},
   "source": [
    "<h2>General Information</h2>\n",
    "<ul>\n",
    "    <li>Number of attribute:16</li>\n",
    "    <li>Number of objects:841</li>\n",
    "    </ul>\n",
    "\n",
    "### - type of attributes : \n",
    "| Attribute Name  | Data Type             | Possible values    | \n",
    "| --------------- | --------------------- | ------------------ | \n",
    "| Indicator       | Nominal               | 1 Unique value     | \n",
    "| Panel           | Nominal               | 1 Unique value     | \n",
    "| Panel_Num       | Numeric               | 1-4                |\n",
    "| Unit            | Nominal               | 1 Unique value     | \n",
    "| Unit_num        | Numeric               | 1                  |\n",
    "| Stub_name       | Nominal               | String             |\n",
    "| Stub_name_num   | Numeric               | 0-5                |\n",
    "| Stub_label_num  | Numeric               | 0-5.4              |\n",
    "| Stub_label      | Nominal               | 2-19 years old ,male,female | \n",
    "| Year            | Numeric               | 10 unique values   |"
   ]
  },
  {
   "cell_type": "code",
   "execution_count": null,
   "id": "e62b079b",
   "metadata": {},
   "outputs": [],
   "source": []
  }
 ],
 "metadata": {
  "kernelspec": {
   "display_name": "R",
   "language": "R",
   "name": "ir"
  },
  "language_info": {
   "codemirror_mode": "r",
   "file_extension": ".r",
   "mimetype": "text/x-r-source",
   "name": "R",
   "pygments_lexer": "r",
   "version": "3.6.1"
  }
 },
 "nbformat": 4,
 "nbformat_minor": 5
}
